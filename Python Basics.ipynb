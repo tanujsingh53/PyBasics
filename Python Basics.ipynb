{
  "nbformat": 4,
  "nbformat_minor": 0,
  "metadata": {
    "colab": {
      "provenance": []
    },
    "kernelspec": {
      "name": "python3",
      "display_name": "Python 3"
    },
    "language_info": {
      "name": "python"
    }
  },
  "cells": [
    {
      "cell_type": "markdown",
      "source": [
        "**Question 1: **\n",
        "Explain the key features of Python that make it a popular choice for programming.\n",
        "\n",
        "  - Python is a simple and easy-to-understand language, like reading simple English. Its pseudo-code nature makes it easy to learn and understand by beginners.\n",
        "  \n",
        "  - Key Features of Python\n",
        "    1.** Simple and Readable Syntax**\n",
        "        *   Python code is clean and easy to understand, making it ideal for beginners.\n",
        "        *   It uses indentation to define blocks of code, promoting readable formatting.\n"
      ],
      "metadata": {
        "id": "9A4twL_uww1F"
      }
    },
    {
      "cell_type": "code",
      "source": [
        "print(\"Hello, World!\")"
      ],
      "metadata": {
        "colab": {
          "base_uri": "https://localhost:8080/"
        },
        "id": "-Lo4uP8dOAq4",
        "outputId": "f7e6ceb8-13bc-44c9-a82f-ec761f3b1390"
      },
      "execution_count": null,
      "outputs": [
        {
          "output_type": "stream",
          "name": "stdout",
          "text": [
            "Hello, World!\n"
          ]
        }
      ]
    },
    {
      "cell_type": "markdown",
      "source": [
        "    2. **Interpreted Language**\n",
        "        *   Python doesn't need to be compiled before running.\n",
        "        *   Code is executed line by line, which helps with debugging and   testing.\n",
        "\n",
        "    3. **Dynamically Typed**\n",
        "        *   You don’t need to declare variable types.\n",
        "        *   Python determines the type of variable at runtime, which speeds up coding.\n",
        "\n",
        "\n",
        "    4. **High-Level Language**\n",
        "        *   Abstracts many low-level details (like memory management), allowing developers to focus on logic and design.\n",
        "\n",
        "    5. **Extensive Standard Library**\n",
        "         *   Comes with a vast library of built-in modules and functions (like math, datetime, os, etc.) to handle common tasks.\n"
      ],
      "metadata": {
        "id": "TlbEkWI6N3VF"
      }
    },
    {
      "cell_type": "code",
      "source": [
        "import math\n",
        "print(math.sqrt(16))"
      ],
      "metadata": {
        "colab": {
          "base_uri": "https://localhost:8080/"
        },
        "id": "v5kIrvsG4Ku4",
        "outputId": "a8f0a630-67e5-4aea-dd60-bb562dfc1e32"
      },
      "execution_count": null,
      "outputs": [
        {
          "output_type": "stream",
          "name": "stdout",
          "text": [
            "4.0\n"
          ]
        }
      ]
    },
    {
      "cell_type": "markdown",
      "source": [
        "6.  **Large Ecosystem of Third-Party Libraries**\n",
        "         *   Libraries for everything from data science (pandas, numpy, matplotlib), web development (Django, Flask), to automation (selenium, requests).\n",
        "\n",
        "    7. **Object-Oriented and Functional**\n",
        "         *   Supports multiple programming paradigms: object-oriented, procedural, and functional programming.\n",
        "\n",
        "    8. **Cross-Platform Compatibility**\n",
        "         *   Python code can run on Windows, macOS, and Linux with little or no modification.\n",
        "\n",
        "    9. **Community Support**\n",
        "         *   Massive and active global community means plenty of tutorials, forums, and resources.\n",
        "    \n",
        "    10. **Used in Diverse Fields**\n",
        "         *   Massive and active global community means plenty of tutorials, forums, and resources.\n"
      ],
      "metadata": {
        "id": "Z0K49M4y3-1x"
      }
    },
    {
      "cell_type": "markdown",
      "source": [
        "**Question 2**\n",
        "Describe the role of predefined keywords in Python and provide examples of how they are used in a program.\n",
        "\n",
        "  - Predefined keywords in Python are reserved words that have special meaning and cannot be used as identifiers (like variable names, function names, etc.). These keywords define the syntax and structure of the Python language.\n",
        "\n",
        "  - They help in:\n",
        "\n",
        "\n",
        "*   Controlling the flow of a program (e.g., if, else, while)\n",
        "*   Declaring variables and functions (e.g., def, class)\n",
        "*   Handling exceptions (e.g., try, except)\n",
        "*   Defining values or constants (e.g., True, False, None)\n",
        "\n",
        "Examples of Common Python Keywords & Their Usage:\n",
        "1. if, elif, else – Conditional Statements"
      ],
      "metadata": {
        "id": "jssZGfJhOc3Q"
      }
    },
    {
      "cell_type": "code",
      "source": [
        "light=input(\"light color : \")\n",
        "if(light == \"red\"):\n",
        "    print(\"stop\")\n",
        "elif(light == \"yellow\"):\n",
        "    print(\"look\")\n",
        "elif(light == \"green\"):\n",
        "    print(\"go\")\n",
        "else:\n",
        "    print(\"light is broken\")"
      ],
      "metadata": {
        "colab": {
          "base_uri": "https://localhost:8080/"
        },
        "id": "_V4hWY1IQfMA",
        "outputId": "610ae802-f419-4aa9-e4f2-f4cf3d677efe"
      },
      "execution_count": null,
      "outputs": [
        {
          "output_type": "stream",
          "name": "stdout",
          "text": [
            "light color : red\n",
            "stop\n"
          ]
        }
      ]
    },
    {
      "cell_type": "markdown",
      "source": [
        "  2. for, in – Looping Over Items"
      ],
      "metadata": {
        "id": "NPar89tsRIyX"
      }
    },
    {
      "cell_type": "code",
      "source": [
        "for i in range(1, 6):\n",
        "     print(i)"
      ],
      "metadata": {
        "colab": {
          "base_uri": "https://localhost:8080/"
        },
        "collapsed": true,
        "id": "6hLLtpaRRIbe",
        "outputId": "ee9ce611-2c7a-4382-af3c-cf8cd37aaf3b"
      },
      "execution_count": 2,
      "outputs": [
        {
          "output_type": "stream",
          "name": "stdout",
          "text": [
            "1\n",
            "2\n",
            "3\n",
            "4\n",
            "5\n"
          ]
        }
      ]
    },
    {
      "cell_type": "markdown",
      "source": [
        "  3. def, return – Defining Functions"
      ],
      "metadata": {
        "id": "oJ08_ifgRjsm"
      }
    },
    {
      "cell_type": "code",
      "source": [
        "def greet(name):\n",
        "    return f\"Hello, {name}!\"\n",
        "\n",
        "print(greet(\"Tanuj\"))\n"
      ],
      "metadata": {
        "colab": {
          "base_uri": "https://localhost:8080/"
        },
        "id": "jZNahczRRw1B",
        "outputId": "27e330e0-13a7-4f2a-86ae-80fdc77b19a4"
      },
      "execution_count": null,
      "outputs": [
        {
          "output_type": "stream",
          "name": "stdout",
          "text": [
            "Hello, Tanuj!\n"
          ]
        }
      ]
    },
    {
      "cell_type": "markdown",
      "source": [
        "  4. class – Defining a Class"
      ],
      "metadata": {
        "id": "q-daENVGT_6e"
      }
    },
    {
      "cell_type": "code",
      "source": [
        "class Car:\n",
        "    def __init__(self):\n",
        "        self.acc = False\n",
        "        self.brk = False\n",
        "        self.clutch = False\n",
        "\n",
        "    def start(self):\n",
        "        self.clutch =True\n",
        "        self.acc =True\n",
        "        print(\"car started...\")\n",
        "\n",
        "\n",
        "car1 = Car()\n",
        "car1.start()"
      ],
      "metadata": {
        "colab": {
          "base_uri": "https://localhost:8080/"
        },
        "id": "lNELNLOHUDWe",
        "outputId": "acbb2ea0-d7a3-448d-bc86-ee94c67d7de4"
      },
      "execution_count": null,
      "outputs": [
        {
          "output_type": "stream",
          "name": "stdout",
          "text": [
            "car started...\n"
          ]
        }
      ]
    },
    {
      "cell_type": "markdown",
      "source": [
        "  5. try, except, finally – Exception Handling"
      ],
      "metadata": {
        "id": "vM3JkzQ7Uith"
      }
    },
    {
      "cell_type": "code",
      "source": [
        "try:\n",
        "    num = int(\"abc\")\n",
        "except ValueError:\n",
        "    print(\"Invalid input!\")\n",
        "finally:\n",
        "    print(\"Execution complete.\")"
      ],
      "metadata": {
        "id": "g8kCyYUuUIFj"
      },
      "execution_count": null,
      "outputs": []
    },
    {
      "cell_type": "markdown",
      "source": [
        " 6. import, as, from – Importing Modules"
      ],
      "metadata": {
        "id": "T24IkwdMUvEQ"
      }
    },
    {
      "cell_type": "code",
      "source": [
        "import math\n",
        "print(math.sqrt(16))\n",
        "\n",
        "from datetime import datetime as dt\n",
        "print(dt.now())"
      ],
      "metadata": {
        "id": "WMLB7zCsYntL"
      },
      "execution_count": null,
      "outputs": []
    },
    {
      "cell_type": "markdown",
      "source": [
        "**Question 3**\n",
        "Compare and contrast mutable and immutable objects in Python with examples.\n",
        "\n",
        "  - Meaning\n",
        "\n",
        "    Mutable : Meaning Can be changed after creation\n",
        "   \n",
        "    Immutable :  Cannot be changed after creation\n",
        "\n",
        "\n",
        "  - Examples\n",
        "    \n",
        "    Mutable : list, dict, set, bytearray\n",
        "    \n",
        "    Immutable : int, float, str, tuple, bool, frozenset\n",
        "\n",
        "  - Memory Address (ID)\n",
        "  \n",
        "    Mutable : Remains the same after changes\n",
        "    \n",
        "    Immutable :  New object is created if value changes\n",
        "\n",
        "\n",
        "  - Use Case\n",
        "    Mutable : Useful for collections that need updates\n",
        "    \n",
        "    Immutable : Good for constant values and safe sharing\n",
        "\n",
        "\n",
        "\n",
        "  --> Why Does It Matter?\n",
        "  \n",
        "    *   Mutable objects can lead to unexpected behavior when passed into functions or reused.\n",
        "    *   Immutable objects are safer for concurrent or functional programming.\n",
        "\n",
        "\n",
        "\n"
      ],
      "metadata": {
        "id": "JI_J4jZgYhP-"
      }
    },
    {
      "cell_type": "code",
      "source": [
        "#Mutable Object Example - List:\n",
        "\n",
        "my_list = [1, 2, 3]\n",
        "print(id(my_list))\n",
        "\n",
        "my_list.append(4)\n",
        "print(my_list)\n",
        "print(id(my_list))\n",
        "\n",
        "#Immutable Object Example - String:\n",
        "\n",
        "my_str = \"Hello\"\n",
        "print(id(my_str))\n",
        "\n",
        "my_str += \" India\"\n",
        "print(my_str)\n",
        "print(id(my_str))\n"
      ],
      "metadata": {
        "colab": {
          "base_uri": "https://localhost:8080/"
        },
        "id": "x7ZRT7wvrNpD",
        "outputId": "8cf385ea-201c-4700-e355-a0401b4efe50"
      },
      "execution_count": 1,
      "outputs": [
        {
          "output_type": "stream",
          "name": "stdout",
          "text": [
            "139042062559424\n",
            "[1, 2, 3, 4]\n",
            "139042062559424\n",
            "139042062550192\n",
            "Hello India\n",
            "139042074438064\n"
          ]
        }
      ]
    },
    {
      "cell_type": "markdown",
      "source": [
        "**Question 4**\n",
        "Discuss the different types of operators in Python and provide examples of how they are used.\n",
        "\n",
        "  -  Python has a rich set of operators used to perform operations on variables and values. Here's a comprehensive breakdown of the types of operators in Python, along with examples:\n",
        "\n",
        "\n",
        "    *   Arithmetic Operators : +, -, *, /, //, %, **\n",
        "\n",
        "    *   Comparison Operators :  ==, !=, >, <, >=, <=\n",
        "\n",
        "    *   Assignment Operators : =, +=, -=, *=, /=\n",
        "\n",
        "    *   Logical Operators : and, or, not\n",
        "\n",
        "    *   Identity Operators : is, is not\n",
        "\n",
        "    *   Membership Operators : in, not in\n",
        "\n",
        "    *   Bitwise Operators : &, ', ^,  ~, <<, >>\n",
        "\n",
        "\n",
        "\n"
      ],
      "metadata": {
        "id": "NdYJ4nA1sPGS"
      }
    },
    {
      "cell_type": "code",
      "source": [
        "#1. Arithmetic Operator\n",
        "\n",
        "a = 10\n",
        "b = 3\n",
        "print(a + b)\n",
        "\n",
        " #2. Comparison Operator\n",
        "\n",
        "x = 5\n",
        "y = 10\n",
        "print(x < y)\n",
        " #3. Assignment Operator\n",
        "\n",
        "z = 7\n",
        "z += 3\n",
        "print(z)\n",
        "\n",
        " #4. Logical Operator\n",
        "\n",
        "c = True\n",
        "d = False\n",
        "print(c and d)\n",
        "\n",
        " #5. Identity Operator\n",
        "\n",
        "t= [1, 2]\n",
        "s = x\n",
        "print(t is s)\n",
        "\n",
        " #6. Membership Operator\n",
        "\n",
        "name = \"Python\"\n",
        "print(\"y\" in name)\n",
        "\n",
        " #7. Bitwise Operator\n",
        "\n",
        "e = 5\n",
        "f = 3\n",
        "print(e & f)"
      ],
      "metadata": {
        "colab": {
          "base_uri": "https://localhost:8080/"
        },
        "id": "DzweHUR07KfE",
        "outputId": "37e19710-1753-4af2-f4cc-9d89142ba698"
      },
      "execution_count": 12,
      "outputs": [
        {
          "output_type": "stream",
          "name": "stdout",
          "text": [
            "13\n",
            "True\n",
            "10\n",
            "False\n",
            "False\n",
            "True\n",
            "1\n"
          ]
        }
      ]
    },
    {
      "cell_type": "markdown",
      "source": [
        "**Question 5**\n",
        "Explain the concept of type casting in Python with examples.\n",
        "\n",
        "  - Type casting (or type conversion) is the process of converting a value from one data type to another. This is useful when you're working with different types and need to ensure compatibility in operations.\n",
        "\n",
        "  1. Implicit Type Casting\n",
        "      - Done automatically by Python\n",
        "      - Happens when combining different numeric types\n"
      ],
      "metadata": {
        "id": "LSi8h0aqvnFb"
      }
    },
    {
      "cell_type": "code",
      "source": [
        "a = 5\n",
        "b = 3.0\n",
        "\n",
        "result = a + b\n",
        "print(result)\n",
        "print(type(result))"
      ],
      "metadata": {
        "colab": {
          "base_uri": "https://localhost:8080/"
        },
        "id": "u3hEM7htwOnz",
        "outputId": "427a4d6a-58c1-4907-98a7-dc319a9b3683"
      },
      "execution_count": 3,
      "outputs": [
        {
          "output_type": "stream",
          "name": "stdout",
          "text": [
            "8.0\n",
            "<class 'float'>\n"
          ]
        }
      ]
    },
    {
      "cell_type": "markdown",
      "source": [
        "    2. Explicit Type Casting\n",
        "        - Done manually by the programmer using built-in functions:\n",
        "            - int(), float(), str(), list(), tuple(), etc.\n",
        "          \n",
        "          Example 1: int() – Convert float or string to integer."
      ],
      "metadata": {
        "id": "SHNlRce6wWXy"
      }
    },
    {
      "cell_type": "code",
      "source": [
        "#Example 1: int() – Convert float or string to integer\n",
        "x = int(4.7)\n",
        "y = int(\"12\")\n",
        "\n",
        "\n",
        "# Example 2: float() – Convert int or string to float\n",
        "\n",
        "a = float(3)\n",
        "b = float(\"5.6\")\n",
        "\n",
        "\n",
        "#  Example 3: str() – Convert number to string\n",
        "\n",
        "num = 100\n",
        "text = str(num)\n",
        "print(text + \" is a number\")\n",
        "\n",
        "\n",
        "# Example 4: list() – Convert string or tuple to list\n",
        "\n",
        "s = \"PwSkills\"\n",
        "print(list(s))\n"
      ],
      "metadata": {
        "id": "h3dYQIHPwoqk"
      },
      "execution_count": null,
      "outputs": []
    },
    {
      "cell_type": "markdown",
      "source": [
        "**Question 6**\n",
        " How do conditional statements work in Python? Illustrate with examples.\n",
        "\n",
        "  - Conditional statements allow you to execute different blocks of code based on whether a condition is True or False. They are essential for decision-making in programs.\n",
        "\n",
        "  1. if Statement :  \n",
        "  Executes a block of code if a condition is true."
      ],
      "metadata": {
        "id": "QgvxAhXaw0Fq"
      }
    },
    {
      "cell_type": "code",
      "source": [
        "age = 18\n",
        "if age >= 18:\n",
        "    print(\"You are eligible to vote.\")"
      ],
      "metadata": {
        "id": "hMtAZoZ0yJLT"
      },
      "execution_count": null,
      "outputs": []
    },
    {
      "cell_type": "markdown",
      "source": [
        "    2. if...else Statement :\n",
        "       Provides an alternative block if the condition is false."
      ],
      "metadata": {
        "id": "SySOdJZ5yOOa"
      }
    },
    {
      "cell_type": "code",
      "source": [
        "num = 7\n",
        "if num % 2 == 0:\n",
        "    print(\"Even number\")\n",
        "else:\n",
        "    print(\"Odd number\")"
      ],
      "metadata": {
        "id": "V-MBLxiSybUa"
      },
      "execution_count": null,
      "outputs": []
    },
    {
      "cell_type": "markdown",
      "source": [
        "  3. 3. if...elif...else: Statement :\n",
        "     Checks multiple conditions sequentially."
      ],
      "metadata": {
        "id": "Xb8kQaTWyncB"
      }
    },
    {
      "cell_type": "code",
      "source": [
        "score = int(input(\"Enter the marks : \"))\n",
        "\n",
        "if score >= 90:\n",
        "    print(\"Grade: A\")\n",
        "elif score >= 80:\n",
        "    print(\"Grade: B\")\n",
        "elif score >= 70:\n",
        "    print(\"Grade: C\")\n",
        "else:\n",
        "    print(\"Grade: F\")"
      ],
      "metadata": {
        "colab": {
          "base_uri": "https://localhost:8080/"
        },
        "id": "6cACYPqXy2Zi",
        "outputId": "5c061d9a-60f5-4d7a-a7ea-5ee21941ee5a"
      },
      "execution_count": 6,
      "outputs": [
        {
          "output_type": "stream",
          "name": "stdout",
          "text": [
            "Enter the marks : 75\n",
            "Grade: C\n"
          ]
        }
      ]
    },
    {
      "cell_type": "markdown",
      "source": [
        "    - How does it work:\n",
        "      - Python evaluates conditions top-down.\n",
        "      - The first true condition executes its block.\n",
        "      - Once a match is found, the rest are skipped."
      ],
      "metadata": {
        "id": "nBksxciUzZoa"
      }
    },
    {
      "cell_type": "markdown",
      "source": [
        "**Question 7**\n",
        "Describe the different types of loops in Python and their use cases with examples.\n",
        "\n",
        "  -   Loops in Python are used to execute a block of code repeatedly as long as a condition is met. There are two primary types of loops:\n",
        "\n",
        "   1. for Loop:\n",
        "      For Loop is used to iterate through a sequence like list, tuple or string [iterables]      "
      ],
      "metadata": {
        "id": "kXPTdIHQzz5R"
      }
    },
    {
      "cell_type": "code",
      "source": [
        "l = [5,7,9]\n",
        "for item in l:\n",
        "  print(item)"
      ],
      "metadata": {
        "colab": {
          "base_uri": "https://localhost:8080/"
        },
        "id": "3qW-TNuO1ISs",
        "outputId": "7ff67d9f-630b-4dea-a43d-0e242cefa3eb"
      },
      "execution_count": 8,
      "outputs": [
        {
          "output_type": "stream",
          "name": "stdout",
          "text": [
            "5\n",
            "7\n",
            "9\n"
          ]
        }
      ]
    },
    {
      "cell_type": "markdown",
      "source": [
        "      2. while Loop:\n",
        "         In while loops, the condition is checked first. If it evaluates to true, the body of the Loop is excuted otherwise not.\n",
        "         If the loop is entered, the process of [condition check & execution] is continued until the condition becomes false.\n",
        "\n",
        "         Example :"
      ],
      "metadata": {
        "id": "6JAZSmvi1hs5"
      }
    },
    {
      "cell_type": "code",
      "source": [
        "i = 0\n",
        "while i<5:\n",
        "  print(\"Adam\")\n",
        "  i += 1"
      ],
      "metadata": {
        "colab": {
          "base_uri": "https://localhost:8080/"
        },
        "collapsed": true,
        "id": "ksgAW8Vy2qVU",
        "outputId": "ab102015-c7e7-4e9f-c406-66d7d8f09c23"
      },
      "execution_count": 9,
      "outputs": [
        {
          "output_type": "stream",
          "name": "stdout",
          "text": [
            "Adam\n",
            "Adam\n",
            "Adam\n",
            "Adam\n",
            "Adam\n"
          ]
        }
      ]
    },
    {
      "cell_type": "markdown",
      "source": [
        "    - Loop Control Statements\n",
        "      - break Statment :\n",
        "        'break' is used to come out of the loop when encounterd. It instructs the program to Exist the Loop now.\n",
        "\n",
        "      - continue Statment :\n",
        "        'continue' is ued to stop the current iteration of the loop and continue with the next one. It instructs the program to \"skip the situation\".\n",
        "\n",
        "      - pass Statment :\n",
        "        pass is a null Statment in python. It instructs to \"Do nothing\"."
      ],
      "metadata": {
        "id": "lrn5eDMT3M1E"
      }
    }
  ]
}